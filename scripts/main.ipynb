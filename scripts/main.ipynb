{
 "cells": [
  {
   "cell_type": "code",
   "execution_count": 55,
   "metadata": {
    "collapsed": false
   },
   "outputs": [
    {
     "name": "stdout",
     "output_type": "stream",
     "text": [
      "The autoreload extension is already loaded. To reload it, use:\n",
      "  %reload_ext autoreload\n"
     ]
    }
   ],
   "source": [
    "%load_ext autoreload\n",
    "%autoreload 2\n",
    "\n",
    "# interactive in the notebook\n",
    "# %matplotlib notebook\n",
    "\n",
    "# inlined but not interactive\n",
    "%matplotlib inline"
   ]
  },
  {
   "cell_type": "code",
   "execution_count": 2,
   "metadata": {
    "collapsed": false
   },
   "outputs": [],
   "source": [
    "from starter import Agent\n",
    "import pylab as plb\n",
    "import sys"
   ]
  },
  {
   "cell_type": "markdown",
   "metadata": {},
   "source": [
    "Let's test it works"
   ]
  },
  {
   "cell_type": "code",
   "execution_count": null,
   "metadata": {
    "collapsed": false,
    "scrolled": false
   },
   "outputs": [],
   "source": [
    "d = Agent(side_size=8)\n",
    "tries = []\n",
    "# plb.ion()\n",
    "plb.pause(0.001)\n",
    "fig = plb.figure()\n",
    "\n",
    "for i in range(2):\n",
    "    print(\"Episode \", i+1)\n",
    "    sys.stdout.flush()\n",
    "    d.episode(3000, tau = .05, animation=True, fig=fig) # simulation\n",
    "    tries.append(d.mountain_car.t) # whendoes it end ?  (step) \n",
    "    \n",
    "#     d.visualize_field() # visualize best action field\n"
   ]
  },
  {
   "cell_type": "markdown",
   "metadata": {
    "collapsed": false
   },
   "source": [
    "### Simulate 10 agents and plot their averaged learning curve"
   ]
  },
  {
   "cell_type": "code",
   "execution_count": null,
   "metadata": {
    "collapsed": false,
    "scrolled": true
   },
   "outputs": [],
   "source": [
    "num_agents = 20\n",
    "num_episodes = 50\n",
    "agents = []\n",
    "escape_times = np.empty((num_agents, num_episodes))\n",
    "\n",
    "for agent_id in range(num_agents):\n",
    "    agents.append(Agent(side_size = 8))\n",
    "\n",
    "for episode_id in range(num_episodes):\n",
    "    print(\"Starting episode\", episode_id)\n",
    "    sys.stdout.flush()\n",
    "    for agent_id in range(num_agents):\n",
    "        agents[agent_id].episode(n_steps=2000)\n",
    "        escape_times[agent_id, episode_id] = agents[agent_id].mountain_car.t\n",
    "        "
   ]
  },
  {
   "cell_type": "code",
   "execution_count": null,
   "metadata": {
    "collapsed": false
   },
   "outputs": [],
   "source": [
    "avg_escape_times = escape_times.mean(axis=0)\n",
    "plb.plot(avg_escape_times)\n",
    "\n",
    "plb.xlabel(\"Episode\")\n",
    "plb.ylabel(\"Escape time\")\n",
    "plb.title(\"Average escape time smoothed over {n} agents\\n({s}x{s} grid, tau={t})\".format(\n",
    "           n=num_agents, s=agents[0].side_size, t=agents[0].tau))"
   ]
  },
  {
   "cell_type": "markdown",
   "metadata": {},
   "source": [
    "## Multiprocessing tests. \n",
    "\n",
    "This may not work on Windows :( http://stackoverflow.com/questions/7067787/python-multiprocessing-processes-become-copies-of-the-main-process-when-run-fr/7079399#7079399\n",
    "\n",
    "Nope, this doesn't work in the notebook either, because of `multiprocessing` peculiarities, so it has to be run from a file.\n",
    "\n",
    "We show the file here for convenience:"
   ]
  },
  {
   "cell_type": "code",
   "execution_count": 21,
   "metadata": {
    "collapsed": false
   },
   "outputs": [
    {
     "name": "stdout",
     "output_type": "stream",
     "text": [
      "\u001b[1;31m# because multiprocessing Pool cannot run in interactive mode, we put it in a file\u001b[0m\u001b[1;33m\u001b[0m\n",
      "\u001b[1;33m\u001b[0m\u001b[1;33m\u001b[0m\n",
      "\u001b[1;33m\u001b[0m\u001b[1;32mfrom\u001b[0m \u001b[0mmultiprocessing\u001b[0m \u001b[1;32mimport\u001b[0m \u001b[0mPool\u001b[0m\u001b[1;33m\u001b[0m\n",
      "\u001b[1;33m\u001b[0m\u001b[1;32mfrom\u001b[0m \u001b[0mstarter\u001b[0m \u001b[1;32mimport\u001b[0m \u001b[0mAgent\u001b[0m\u001b[1;33m\u001b[0m\n",
      "\u001b[1;33m\u001b[0m\u001b[1;33m\u001b[0m\n",
      "\u001b[1;33m\u001b[0m\u001b[1;32mdef\u001b[0m \u001b[0mmake_and_run\u001b[0m\u001b[1;33m(\u001b[0m\u001b[0msize\u001b[0m\u001b[1;33m)\u001b[0m\u001b[1;33m:\u001b[0m\u001b[1;33m\u001b[0m\n",
      "\u001b[1;33m\u001b[0m    \u001b[0ma\u001b[0m \u001b[1;33m=\u001b[0m \u001b[0mAgent\u001b[0m\u001b[1;33m(\u001b[0m\u001b[0mside_size\u001b[0m\u001b[1;33m=\u001b[0m\u001b[0msize\u001b[0m\u001b[1;33m)\u001b[0m\u001b[1;33m\u001b[0m\n",
      "\u001b[1;33m\u001b[0m    \u001b[1;32mfor\u001b[0m \u001b[0me\u001b[0m \u001b[1;32min\u001b[0m \u001b[0mrange\u001b[0m\u001b[1;33m(\u001b[0m\u001b[1;36m60\u001b[0m\u001b[1;33m)\u001b[0m\u001b[1;33m:\u001b[0m\u001b[1;33m\u001b[0m\n",
      "\u001b[1;33m\u001b[0m        \u001b[0ma\u001b[0m\u001b[1;33m.\u001b[0m\u001b[0mepisode\u001b[0m\u001b[1;33m(\u001b[0m\u001b[1;33m)\u001b[0m\u001b[1;33m\u001b[0m\n",
      "\u001b[1;33m\u001b[0m        \u001b[1;31m# if 5 times in a row we escape in less than 150 steps\u001b[0m\u001b[1;33m\u001b[0m\n",
      "\u001b[1;33m\u001b[0m        \u001b[1;32mif\u001b[0m \u001b[0me\u001b[0m \u001b[1;33m>\u001b[0m \u001b[1;36m5\u001b[0m \u001b[1;32mand\u001b[0m \u001b[0msum\u001b[0m\u001b[1;33m(\u001b[0m\u001b[0ma\u001b[0m\u001b[1;33m.\u001b[0m\u001b[0mescape_times\u001b[0m\u001b[1;33m[\u001b[0m\u001b[1;33m-\u001b[0m\u001b[1;36m5\u001b[0m\u001b[1;33m:\u001b[0m\u001b[1;33m]\u001b[0m\u001b[1;33m)\u001b[0m \u001b[1;33m/\u001b[0m \u001b[1;36m5\u001b[0m \u001b[1;33m<\u001b[0m \u001b[1;36m150\u001b[0m\u001b[1;33m:\u001b[0m\u001b[1;33m\u001b[0m\n",
      "\u001b[1;33m\u001b[0m            \u001b[1;32mbreak\u001b[0m\u001b[1;33m\u001b[0m\n",
      "\u001b[1;33m\u001b[0m    \u001b[1;32mreturn\u001b[0m \u001b[1;33m[\u001b[0m\u001b[0msize\u001b[0m\u001b[1;33m,\u001b[0m \u001b[0me\u001b[0m\u001b[1;33m]\u001b[0m\u001b[1;33m\u001b[0m\n",
      "\u001b[1;33m\u001b[0m\u001b[1;33m\u001b[0m\n",
      "\u001b[1;33m\u001b[0m\u001b[1;32mdef\u001b[0m \u001b[0mmain\u001b[0m\u001b[1;33m(\u001b[0m\u001b[1;33m)\u001b[0m\u001b[1;33m:\u001b[0m\u001b[1;33m\u001b[0m\n",
      "\u001b[1;33m\u001b[0m    \u001b[0mp\u001b[0m \u001b[1;33m=\u001b[0m \u001b[0mPool\u001b[0m\u001b[1;33m(\u001b[0m\u001b[1;36m6\u001b[0m\u001b[1;33m)\u001b[0m\u001b[1;33m\u001b[0m\n",
      "\u001b[1;33m\u001b[0m    \u001b[0mepisodes_per_size\u001b[0m \u001b[1;33m=\u001b[0m \u001b[1;33m[\u001b[0m\u001b[1;33m]\u001b[0m\u001b[1;33m\u001b[0m\n",
      "\u001b[1;33m\u001b[0m\u001b[1;33m\u001b[0m\n",
      "\u001b[1;33m\u001b[0m    \u001b[1;31m# 5 agents of each size from 6 -> 11\u001b[0m\u001b[1;33m\u001b[0m\n",
      "\u001b[1;33m\u001b[0m    \u001b[1;32mfor\u001b[0m \u001b[0mres\u001b[0m \u001b[1;32min\u001b[0m \u001b[0mp\u001b[0m\u001b[1;33m.\u001b[0m\u001b[0mmap\u001b[0m\u001b[1;33m(\u001b[0m\u001b[0mmake_and_run\u001b[0m\u001b[1;33m,\u001b[0m \u001b[0msorted\u001b[0m\u001b[1;33m(\u001b[0m\u001b[0mlist\u001b[0m\u001b[1;33m(\u001b[0m\u001b[0mrange\u001b[0m\u001b[1;33m(\u001b[0m\u001b[1;36m7\u001b[0m\u001b[1;33m,\u001b[0m\u001b[1;36m12\u001b[0m\u001b[1;33m)\u001b[0m\u001b[1;33m)\u001b[0m \u001b[1;33m*\u001b[0m \u001b[1;36m5\u001b[0m\u001b[1;33m)\u001b[0m\u001b[1;33m)\u001b[0m\u001b[1;33m:\u001b[0m\u001b[1;33m\u001b[0m\n",
      "\u001b[1;33m\u001b[0m        \u001b[0mepisodes_per_size\u001b[0m\u001b[1;33m.\u001b[0m\u001b[0mappend\u001b[0m\u001b[1;33m(\u001b[0m\u001b[0mres\u001b[0m\u001b[1;33m)\u001b[0m\u001b[1;33m\u001b[0m\n",
      "\u001b[1;33m\u001b[0m\u001b[1;33m\u001b[0m\n",
      "\u001b[1;33m\u001b[0m    \u001b[0mprint\u001b[0m\u001b[1;33m(\u001b[0m\u001b[0mepisodes_per_size\u001b[0m\u001b[1;33m)\u001b[0m\u001b[1;33m\u001b[0m\n",
      "\u001b[1;33m\u001b[0m\u001b[1;33m\u001b[0m\n",
      "\u001b[1;33m\u001b[0m\u001b[1;32mif\u001b[0m \u001b[0m__name__\u001b[0m \u001b[1;33m==\u001b[0m \u001b[1;34m\"__main__\"\u001b[0m\u001b[1;33m:\u001b[0m\u001b[1;33m\u001b[0m\n",
      "\u001b[1;33m\u001b[0m    \u001b[0mmain\u001b[0m\u001b[1;33m(\u001b[0m\u001b[1;33m)\u001b[0m\u001b[1;33m\u001b[0m\u001b[0m\n",
      "\n"
     ]
    }
   ],
   "source": [
    "from IPython.core import page\n",
    "page.page = print\n",
    "%pycat threaded.py"
   ]
  },
  {
   "cell_type": "code",
   "execution_count": 15,
   "metadata": {
    "collapsed": false
   },
   "outputs": [],
   "source": [
    "episodes_per_size = ! python threaded.py"
   ]
  },
  {
   "cell_type": "code",
   "execution_count": 23,
   "metadata": {
    "collapsed": false
   },
   "outputs": [],
   "source": [
    "episodes_per_size = eval(episodes_per_size[0])"
   ]
  },
  {
   "cell_type": "code",
   "execution_count": 50,
   "metadata": {
    "collapsed": false
   },
   "outputs": [
    {
     "data": {
      "text/plain": [
       "array([[[ 7, 16],\n",
       "        [ 7, 26],\n",
       "        [ 7, 16],\n",
       "        [ 7, 26],\n",
       "        [ 7, 16]],\n",
       "\n",
       "       [[ 8, 21],\n",
       "        [ 8, 24],\n",
       "        [ 8, 20],\n",
       "        [ 8, 24],\n",
       "        [ 8, 20]],\n",
       "\n",
       "       [[ 9, 27],\n",
       "        [ 9, 25],\n",
       "        [ 9, 32],\n",
       "        [ 9, 19],\n",
       "        [ 9, 24]],\n",
       "\n",
       "       [[10, 31],\n",
       "        [10, 23],\n",
       "        [10, 34],\n",
       "        [10, 31],\n",
       "        [10, 17]],\n",
       "\n",
       "       [[11, 26],\n",
       "        [11, 22],\n",
       "        [11, 30],\n",
       "        [11, 29],\n",
       "        [11, 30]]])"
      ]
     },
     "execution_count": 50,
     "metadata": {},
     "output_type": "execute_result"
    }
   ],
   "source": [
    "episodes_per_size = np.array(episodes_per_size).reshape((5,5,2))\n",
    "episodes_per_size"
   ]
  },
  {
   "cell_type": "code",
   "execution_count": 57,
   "metadata": {
    "collapsed": false
   },
   "outputs": [
    {
     "data": {
      "text/plain": [
       "array([[  7. ,  20. ],\n",
       "       [  8. ,  21.8],\n",
       "       [  9. ,  25.4],\n",
       "       [ 10. ,  27.2],\n",
       "       [ 11. ,  27.4]])"
      ]
     },
     "execution_count": 57,
     "metadata": {},
     "output_type": "execute_result"
    }
   ],
   "source": [
    "avg_ep_size = episodes_per_size.mean(axis=1)\n",
    "avg_ep_size"
   ]
  },
  {
   "cell_type": "code",
   "execution_count": 61,
   "metadata": {
    "collapsed": true
   },
   "outputs": [],
   "source": [
    "%matplotlib notebook"
   ]
  },
  {
   "cell_type": "code",
   "execution_count": 69,
   "metadata": {
    "collapsed": false
   },
   "outputs": [
    {
     "data": {
      "application/javascript": [
       "/* Put everything inside the global mpl namespace */\n",
       "window.mpl = {};\n",
       "\n",
       "mpl.get_websocket_type = function() {\n",
       "    if (typeof(WebSocket) !== 'undefined') {\n",
       "        return WebSocket;\n",
       "    } else if (typeof(MozWebSocket) !== 'undefined') {\n",
       "        return MozWebSocket;\n",
       "    } else {\n",
       "        alert('Your browser does not have WebSocket support.' +\n",
       "              'Please try Chrome, Safari or Firefox ≥ 6. ' +\n",
       "              'Firefox 4 and 5 are also supported but you ' +\n",
       "              'have to enable WebSockets in about:config.');\n",
       "    };\n",
       "}\n",
       "\n",
       "mpl.figure = function(figure_id, websocket, ondownload, parent_element) {\n",
       "    this.id = figure_id;\n",
       "\n",
       "    this.ws = websocket;\n",
       "\n",
       "    this.supports_binary = (this.ws.binaryType != undefined);\n",
       "\n",
       "    if (!this.supports_binary) {\n",
       "        var warnings = document.getElementById(\"mpl-warnings\");\n",
       "        if (warnings) {\n",
       "            warnings.style.display = 'block';\n",
       "            warnings.textContent = (\n",
       "                \"This browser does not support binary websocket messages. \" +\n",
       "                    \"Performance may be slow.\");\n",
       "        }\n",
       "    }\n",
       "\n",
       "    this.imageObj = new Image();\n",
       "\n",
       "    this.context = undefined;\n",
       "    this.message = undefined;\n",
       "    this.canvas = undefined;\n",
       "    this.rubberband_canvas = undefined;\n",
       "    this.rubberband_context = undefined;\n",
       "    this.format_dropdown = undefined;\n",
       "\n",
       "    this.image_mode = 'full';\n",
       "\n",
       "    this.root = $('<div/>');\n",
       "    this._root_extra_style(this.root)\n",
       "    this.root.attr('style', 'display: inline-block');\n",
       "\n",
       "    $(parent_element).append(this.root);\n",
       "\n",
       "    this._init_header(this);\n",
       "    this._init_canvas(this);\n",
       "    this._init_toolbar(this);\n",
       "\n",
       "    var fig = this;\n",
       "\n",
       "    this.waiting = false;\n",
       "\n",
       "    this.ws.onopen =  function () {\n",
       "            fig.send_message(\"supports_binary\", {value: fig.supports_binary});\n",
       "            fig.send_message(\"send_image_mode\", {});\n",
       "            fig.send_message(\"refresh\", {});\n",
       "        }\n",
       "\n",
       "    this.imageObj.onload = function() {\n",
       "            if (fig.image_mode == 'full') {\n",
       "                // Full images could contain transparency (where diff images\n",
       "                // almost always do), so we need to clear the canvas so that\n",
       "                // there is no ghosting.\n",
       "                fig.context.clearRect(0, 0, fig.canvas.width, fig.canvas.height);\n",
       "            }\n",
       "            fig.context.drawImage(fig.imageObj, 0, 0);\n",
       "        };\n",
       "\n",
       "    this.imageObj.onunload = function() {\n",
       "        this.ws.close();\n",
       "    }\n",
       "\n",
       "    this.ws.onmessage = this._make_on_message_function(this);\n",
       "\n",
       "    this.ondownload = ondownload;\n",
       "}\n",
       "\n",
       "mpl.figure.prototype._init_header = function() {\n",
       "    var titlebar = $(\n",
       "        '<div class=\"ui-dialog-titlebar ui-widget-header ui-corner-all ' +\n",
       "        'ui-helper-clearfix\"/>');\n",
       "    var titletext = $(\n",
       "        '<div class=\"ui-dialog-title\" style=\"width: 100%; ' +\n",
       "        'text-align: center; padding: 3px;\"/>');\n",
       "    titlebar.append(titletext)\n",
       "    this.root.append(titlebar);\n",
       "    this.header = titletext[0];\n",
       "}\n",
       "\n",
       "\n",
       "\n",
       "mpl.figure.prototype._canvas_extra_style = function(canvas_div) {\n",
       "\n",
       "}\n",
       "\n",
       "\n",
       "mpl.figure.prototype._root_extra_style = function(canvas_div) {\n",
       "\n",
       "}\n",
       "\n",
       "mpl.figure.prototype._init_canvas = function() {\n",
       "    var fig = this;\n",
       "\n",
       "    var canvas_div = $('<div/>');\n",
       "\n",
       "    canvas_div.attr('style', 'position: relative; clear: both; outline: 0');\n",
       "\n",
       "    function canvas_keyboard_event(event) {\n",
       "        return fig.key_event(event, event['data']);\n",
       "    }\n",
       "\n",
       "    canvas_div.keydown('key_press', canvas_keyboard_event);\n",
       "    canvas_div.keyup('key_release', canvas_keyboard_event);\n",
       "    this.canvas_div = canvas_div\n",
       "    this._canvas_extra_style(canvas_div)\n",
       "    this.root.append(canvas_div);\n",
       "\n",
       "    var canvas = $('<canvas/>');\n",
       "    canvas.addClass('mpl-canvas');\n",
       "    canvas.attr('style', \"left: 0; top: 0; z-index: 0; outline: 0\")\n",
       "\n",
       "    this.canvas = canvas[0];\n",
       "    this.context = canvas[0].getContext(\"2d\");\n",
       "\n",
       "    var rubberband = $('<canvas/>');\n",
       "    rubberband.attr('style', \"position: absolute; left: 0; top: 0; z-index: 1;\")\n",
       "\n",
       "    var pass_mouse_events = true;\n",
       "\n",
       "    canvas_div.resizable({\n",
       "        start: function(event, ui) {\n",
       "            pass_mouse_events = false;\n",
       "        },\n",
       "        resize: function(event, ui) {\n",
       "            fig.request_resize(ui.size.width, ui.size.height);\n",
       "        },\n",
       "        stop: function(event, ui) {\n",
       "            pass_mouse_events = true;\n",
       "            fig.request_resize(ui.size.width, ui.size.height);\n",
       "        },\n",
       "    });\n",
       "\n",
       "    function mouse_event_fn(event) {\n",
       "        if (pass_mouse_events)\n",
       "            return fig.mouse_event(event, event['data']);\n",
       "    }\n",
       "\n",
       "    rubberband.mousedown('button_press', mouse_event_fn);\n",
       "    rubberband.mouseup('button_release', mouse_event_fn);\n",
       "    // Throttle sequential mouse events to 1 every 20ms.\n",
       "    rubberband.mousemove('motion_notify', mouse_event_fn);\n",
       "\n",
       "    rubberband.mouseenter('figure_enter', mouse_event_fn);\n",
       "    rubberband.mouseleave('figure_leave', mouse_event_fn);\n",
       "\n",
       "    canvas_div.on(\"wheel\", function (event) {\n",
       "        event = event.originalEvent;\n",
       "        event['data'] = 'scroll'\n",
       "        if (event.deltaY < 0) {\n",
       "            event.step = 1;\n",
       "        } else {\n",
       "            event.step = -1;\n",
       "        }\n",
       "        mouse_event_fn(event);\n",
       "    });\n",
       "\n",
       "    canvas_div.append(canvas);\n",
       "    canvas_div.append(rubberband);\n",
       "\n",
       "    this.rubberband = rubberband;\n",
       "    this.rubberband_canvas = rubberband[0];\n",
       "    this.rubberband_context = rubberband[0].getContext(\"2d\");\n",
       "    this.rubberband_context.strokeStyle = \"#000000\";\n",
       "\n",
       "    this._resize_canvas = function(width, height) {\n",
       "        // Keep the size of the canvas, canvas container, and rubber band\n",
       "        // canvas in synch.\n",
       "        canvas_div.css('width', width)\n",
       "        canvas_div.css('height', height)\n",
       "\n",
       "        canvas.attr('width', width);\n",
       "        canvas.attr('height', height);\n",
       "\n",
       "        rubberband.attr('width', width);\n",
       "        rubberband.attr('height', height);\n",
       "    }\n",
       "\n",
       "    // Set the figure to an initial 600x600px, this will subsequently be updated\n",
       "    // upon first draw.\n",
       "    this._resize_canvas(600, 600);\n",
       "\n",
       "    // Disable right mouse context menu.\n",
       "    $(this.rubberband_canvas).bind(\"contextmenu\",function(e){\n",
       "        return false;\n",
       "    });\n",
       "\n",
       "    function set_focus () {\n",
       "        canvas.focus();\n",
       "        canvas_div.focus();\n",
       "    }\n",
       "\n",
       "    window.setTimeout(set_focus, 100);\n",
       "}\n",
       "\n",
       "mpl.figure.prototype._init_toolbar = function() {\n",
       "    var fig = this;\n",
       "\n",
       "    var nav_element = $('<div/>')\n",
       "    nav_element.attr('style', 'width: 100%');\n",
       "    this.root.append(nav_element);\n",
       "\n",
       "    // Define a callback function for later on.\n",
       "    function toolbar_event(event) {\n",
       "        return fig.toolbar_button_onclick(event['data']);\n",
       "    }\n",
       "    function toolbar_mouse_event(event) {\n",
       "        return fig.toolbar_button_onmouseover(event['data']);\n",
       "    }\n",
       "\n",
       "    for(var toolbar_ind in mpl.toolbar_items) {\n",
       "        var name = mpl.toolbar_items[toolbar_ind][0];\n",
       "        var tooltip = mpl.toolbar_items[toolbar_ind][1];\n",
       "        var image = mpl.toolbar_items[toolbar_ind][2];\n",
       "        var method_name = mpl.toolbar_items[toolbar_ind][3];\n",
       "\n",
       "        if (!name) {\n",
       "            // put a spacer in here.\n",
       "            continue;\n",
       "        }\n",
       "        var button = $('<button/>');\n",
       "        button.addClass('ui-button ui-widget ui-state-default ui-corner-all ' +\n",
       "                        'ui-button-icon-only');\n",
       "        button.attr('role', 'button');\n",
       "        button.attr('aria-disabled', 'false');\n",
       "        button.click(method_name, toolbar_event);\n",
       "        button.mouseover(tooltip, toolbar_mouse_event);\n",
       "\n",
       "        var icon_img = $('<span/>');\n",
       "        icon_img.addClass('ui-button-icon-primary ui-icon');\n",
       "        icon_img.addClass(image);\n",
       "        icon_img.addClass('ui-corner-all');\n",
       "\n",
       "        var tooltip_span = $('<span/>');\n",
       "        tooltip_span.addClass('ui-button-text');\n",
       "        tooltip_span.html(tooltip);\n",
       "\n",
       "        button.append(icon_img);\n",
       "        button.append(tooltip_span);\n",
       "\n",
       "        nav_element.append(button);\n",
       "    }\n",
       "\n",
       "    var fmt_picker_span = $('<span/>');\n",
       "\n",
       "    var fmt_picker = $('<select/>');\n",
       "    fmt_picker.addClass('mpl-toolbar-option ui-widget ui-widget-content');\n",
       "    fmt_picker_span.append(fmt_picker);\n",
       "    nav_element.append(fmt_picker_span);\n",
       "    this.format_dropdown = fmt_picker[0];\n",
       "\n",
       "    for (var ind in mpl.extensions) {\n",
       "        var fmt = mpl.extensions[ind];\n",
       "        var option = $(\n",
       "            '<option/>', {selected: fmt === mpl.default_extension}).html(fmt);\n",
       "        fmt_picker.append(option)\n",
       "    }\n",
       "\n",
       "    // Add hover states to the ui-buttons\n",
       "    $( \".ui-button\" ).hover(\n",
       "        function() { $(this).addClass(\"ui-state-hover\");},\n",
       "        function() { $(this).removeClass(\"ui-state-hover\");}\n",
       "    );\n",
       "\n",
       "    var status_bar = $('<span class=\"mpl-message\"/>');\n",
       "    nav_element.append(status_bar);\n",
       "    this.message = status_bar[0];\n",
       "}\n",
       "\n",
       "mpl.figure.prototype.request_resize = function(x_pixels, y_pixels) {\n",
       "    // Request matplotlib to resize the figure. Matplotlib will then trigger a resize in the client,\n",
       "    // which will in turn request a refresh of the image.\n",
       "    this.send_message('resize', {'width': x_pixels, 'height': y_pixels});\n",
       "}\n",
       "\n",
       "mpl.figure.prototype.send_message = function(type, properties) {\n",
       "    properties['type'] = type;\n",
       "    properties['figure_id'] = this.id;\n",
       "    this.ws.send(JSON.stringify(properties));\n",
       "}\n",
       "\n",
       "mpl.figure.prototype.send_draw_message = function() {\n",
       "    if (!this.waiting) {\n",
       "        this.waiting = true;\n",
       "        this.ws.send(JSON.stringify({type: \"draw\", figure_id: this.id}));\n",
       "    }\n",
       "}\n",
       "\n",
       "\n",
       "mpl.figure.prototype.handle_save = function(fig, msg) {\n",
       "    var format_dropdown = fig.format_dropdown;\n",
       "    var format = format_dropdown.options[format_dropdown.selectedIndex].value;\n",
       "    fig.ondownload(fig, format);\n",
       "}\n",
       "\n",
       "\n",
       "mpl.figure.prototype.handle_resize = function(fig, msg) {\n",
       "    var size = msg['size'];\n",
       "    if (size[0] != fig.canvas.width || size[1] != fig.canvas.height) {\n",
       "        fig._resize_canvas(size[0], size[1]);\n",
       "        fig.send_message(\"refresh\", {});\n",
       "    };\n",
       "}\n",
       "\n",
       "mpl.figure.prototype.handle_rubberband = function(fig, msg) {\n",
       "    var x0 = msg['x0'];\n",
       "    var y0 = fig.canvas.height - msg['y0'];\n",
       "    var x1 = msg['x1'];\n",
       "    var y1 = fig.canvas.height - msg['y1'];\n",
       "    x0 = Math.floor(x0) + 0.5;\n",
       "    y0 = Math.floor(y0) + 0.5;\n",
       "    x1 = Math.floor(x1) + 0.5;\n",
       "    y1 = Math.floor(y1) + 0.5;\n",
       "    var min_x = Math.min(x0, x1);\n",
       "    var min_y = Math.min(y0, y1);\n",
       "    var width = Math.abs(x1 - x0);\n",
       "    var height = Math.abs(y1 - y0);\n",
       "\n",
       "    fig.rubberband_context.clearRect(\n",
       "        0, 0, fig.canvas.width, fig.canvas.height);\n",
       "\n",
       "    fig.rubberband_context.strokeRect(min_x, min_y, width, height);\n",
       "}\n",
       "\n",
       "mpl.figure.prototype.handle_figure_label = function(fig, msg) {\n",
       "    // Updates the figure title.\n",
       "    fig.header.textContent = msg['label'];\n",
       "}\n",
       "\n",
       "mpl.figure.prototype.handle_cursor = function(fig, msg) {\n",
       "    var cursor = msg['cursor'];\n",
       "    switch(cursor)\n",
       "    {\n",
       "    case 0:\n",
       "        cursor = 'pointer';\n",
       "        break;\n",
       "    case 1:\n",
       "        cursor = 'default';\n",
       "        break;\n",
       "    case 2:\n",
       "        cursor = 'crosshair';\n",
       "        break;\n",
       "    case 3:\n",
       "        cursor = 'move';\n",
       "        break;\n",
       "    }\n",
       "    fig.rubberband_canvas.style.cursor = cursor;\n",
       "}\n",
       "\n",
       "mpl.figure.prototype.handle_message = function(fig, msg) {\n",
       "    fig.message.textContent = msg['message'];\n",
       "}\n",
       "\n",
       "mpl.figure.prototype.handle_draw = function(fig, msg) {\n",
       "    // Request the server to send over a new figure.\n",
       "    fig.send_draw_message();\n",
       "}\n",
       "\n",
       "mpl.figure.prototype.handle_image_mode = function(fig, msg) {\n",
       "    fig.image_mode = msg['mode'];\n",
       "}\n",
       "\n",
       "mpl.figure.prototype.updated_canvas_event = function() {\n",
       "    // Called whenever the canvas gets updated.\n",
       "    this.send_message(\"ack\", {});\n",
       "}\n",
       "\n",
       "// A function to construct a web socket function for onmessage handling.\n",
       "// Called in the figure constructor.\n",
       "mpl.figure.prototype._make_on_message_function = function(fig) {\n",
       "    return function socket_on_message(evt) {\n",
       "        if (evt.data instanceof Blob) {\n",
       "            /* FIXME: We get \"Resource interpreted as Image but\n",
       "             * transferred with MIME type text/plain:\" errors on\n",
       "             * Chrome.  But how to set the MIME type?  It doesn't seem\n",
       "             * to be part of the websocket stream */\n",
       "            evt.data.type = \"image/png\";\n",
       "\n",
       "            /* Free the memory for the previous frames */\n",
       "            if (fig.imageObj.src) {\n",
       "                (window.URL || window.webkitURL).revokeObjectURL(\n",
       "                    fig.imageObj.src);\n",
       "            }\n",
       "\n",
       "            fig.imageObj.src = (window.URL || window.webkitURL).createObjectURL(\n",
       "                evt.data);\n",
       "            fig.updated_canvas_event();\n",
       "            fig.waiting = false;\n",
       "            return;\n",
       "        }\n",
       "        else if (typeof evt.data === 'string' && evt.data.slice(0, 21) == \"data:image/png;base64\") {\n",
       "            fig.imageObj.src = evt.data;\n",
       "            fig.updated_canvas_event();\n",
       "            fig.waiting = false;\n",
       "            return;\n",
       "        }\n",
       "\n",
       "        var msg = JSON.parse(evt.data);\n",
       "        var msg_type = msg['type'];\n",
       "\n",
       "        // Call the  \"handle_{type}\" callback, which takes\n",
       "        // the figure and JSON message as its only arguments.\n",
       "        try {\n",
       "            var callback = fig[\"handle_\" + msg_type];\n",
       "        } catch (e) {\n",
       "            console.log(\"No handler for the '\" + msg_type + \"' message type: \", msg);\n",
       "            return;\n",
       "        }\n",
       "\n",
       "        if (callback) {\n",
       "            try {\n",
       "                // console.log(\"Handling '\" + msg_type + \"' message: \", msg);\n",
       "                callback(fig, msg);\n",
       "            } catch (e) {\n",
       "                console.log(\"Exception inside the 'handler_\" + msg_type + \"' callback:\", e, e.stack, msg);\n",
       "            }\n",
       "        }\n",
       "    };\n",
       "}\n",
       "\n",
       "// from http://stackoverflow.com/questions/1114465/getting-mouse-location-in-canvas\n",
       "mpl.findpos = function(e) {\n",
       "    //this section is from http://www.quirksmode.org/js/events_properties.html\n",
       "    var targ;\n",
       "    if (!e)\n",
       "        e = window.event;\n",
       "    if (e.target)\n",
       "        targ = e.target;\n",
       "    else if (e.srcElement)\n",
       "        targ = e.srcElement;\n",
       "    if (targ.nodeType == 3) // defeat Safari bug\n",
       "        targ = targ.parentNode;\n",
       "\n",
       "    // jQuery normalizes the pageX and pageY\n",
       "    // pageX,Y are the mouse positions relative to the document\n",
       "    // offset() returns the position of the element relative to the document\n",
       "    var x = e.pageX - $(targ).offset().left;\n",
       "    var y = e.pageY - $(targ).offset().top;\n",
       "\n",
       "    return {\"x\": x, \"y\": y};\n",
       "};\n",
       "\n",
       "/*\n",
       " * return a copy of an object with only non-object keys\n",
       " * we need this to avoid circular references\n",
       " * http://stackoverflow.com/a/24161582/3208463\n",
       " */\n",
       "function simpleKeys (original) {\n",
       "  return Object.keys(original).reduce(function (obj, key) {\n",
       "    if (typeof original[key] !== 'object')\n",
       "        obj[key] = original[key]\n",
       "    return obj;\n",
       "  }, {});\n",
       "}\n",
       "\n",
       "mpl.figure.prototype.mouse_event = function(event, name) {\n",
       "    var canvas_pos = mpl.findpos(event)\n",
       "\n",
       "    if (name === 'button_press')\n",
       "    {\n",
       "        this.canvas.focus();\n",
       "        this.canvas_div.focus();\n",
       "    }\n",
       "\n",
       "    var x = canvas_pos.x;\n",
       "    var y = canvas_pos.y;\n",
       "\n",
       "    this.send_message(name, {x: x, y: y, button: event.button,\n",
       "                             step: event.step,\n",
       "                             guiEvent: simpleKeys(event)});\n",
       "\n",
       "    /* This prevents the web browser from automatically changing to\n",
       "     * the text insertion cursor when the button is pressed.  We want\n",
       "     * to control all of the cursor setting manually through the\n",
       "     * 'cursor' event from matplotlib */\n",
       "    event.preventDefault();\n",
       "    return false;\n",
       "}\n",
       "\n",
       "mpl.figure.prototype._key_event_extra = function(event, name) {\n",
       "    // Handle any extra behaviour associated with a key event\n",
       "}\n",
       "\n",
       "mpl.figure.prototype.key_event = function(event, name) {\n",
       "\n",
       "    // Prevent repeat events\n",
       "    if (name == 'key_press')\n",
       "    {\n",
       "        if (event.which === this._key)\n",
       "            return;\n",
       "        else\n",
       "            this._key = event.which;\n",
       "    }\n",
       "    if (name == 'key_release')\n",
       "        this._key = null;\n",
       "\n",
       "    var value = '';\n",
       "    if (event.ctrlKey && event.which != 17)\n",
       "        value += \"ctrl+\";\n",
       "    if (event.altKey && event.which != 18)\n",
       "        value += \"alt+\";\n",
       "    if (event.shiftKey && event.which != 16)\n",
       "        value += \"shift+\";\n",
       "\n",
       "    value += 'k';\n",
       "    value += event.which.toString();\n",
       "\n",
       "    this._key_event_extra(event, name);\n",
       "\n",
       "    this.send_message(name, {key: value,\n",
       "                             guiEvent: simpleKeys(event)});\n",
       "    return false;\n",
       "}\n",
       "\n",
       "mpl.figure.prototype.toolbar_button_onclick = function(name) {\n",
       "    if (name == 'download') {\n",
       "        this.handle_save(this, null);\n",
       "    } else {\n",
       "        this.send_message(\"toolbar_button\", {name: name});\n",
       "    }\n",
       "};\n",
       "\n",
       "mpl.figure.prototype.toolbar_button_onmouseover = function(tooltip) {\n",
       "    this.message.textContent = tooltip;\n",
       "};\n",
       "mpl.toolbar_items = [[\"Home\", \"Reset original view\", \"fa fa-home icon-home\", \"home\"], [\"Back\", \"Back to  previous view\", \"fa fa-arrow-left icon-arrow-left\", \"back\"], [\"Forward\", \"Forward to next view\", \"fa fa-arrow-right icon-arrow-right\", \"forward\"], [\"\", \"\", \"\", \"\"], [\"Pan\", \"Pan axes with left mouse, zoom with right\", \"fa fa-arrows icon-move\", \"pan\"], [\"Zoom\", \"Zoom to rectangle\", \"fa fa-square-o icon-check-empty\", \"zoom\"], [\"\", \"\", \"\", \"\"], [\"Download\", \"Download plot\", \"fa fa-floppy-o icon-save\", \"download\"]];\n",
       "\n",
       "mpl.extensions = [\"eps\", \"jpeg\", \"pdf\", \"png\", \"ps\", \"raw\", \"svg\", \"tif\"];\n",
       "\n",
       "mpl.default_extension = \"png\";var comm_websocket_adapter = function(comm) {\n",
       "    // Create a \"websocket\"-like object which calls the given IPython comm\n",
       "    // object with the appropriate methods. Currently this is a non binary\n",
       "    // socket, so there is still some room for performance tuning.\n",
       "    var ws = {};\n",
       "\n",
       "    ws.close = function() {\n",
       "        comm.close()\n",
       "    };\n",
       "    ws.send = function(m) {\n",
       "        //console.log('sending', m);\n",
       "        comm.send(m);\n",
       "    };\n",
       "    // Register the callback with on_msg.\n",
       "    comm.on_msg(function(msg) {\n",
       "        //console.log('receiving', msg['content']['data'], msg);\n",
       "        // Pass the mpl event to the overriden (by mpl) onmessage function.\n",
       "        ws.onmessage(msg['content']['data'])\n",
       "    });\n",
       "    return ws;\n",
       "}\n",
       "\n",
       "mpl.mpl_figure_comm = function(comm, msg) {\n",
       "    // This is the function which gets called when the mpl process\n",
       "    // starts-up an IPython Comm through the \"matplotlib\" channel.\n",
       "\n",
       "    var id = msg.content.data.id;\n",
       "    // Get hold of the div created by the display call when the Comm\n",
       "    // socket was opened in Python.\n",
       "    var element = $(\"#\" + id);\n",
       "    var ws_proxy = comm_websocket_adapter(comm)\n",
       "\n",
       "    function ondownload(figure, format) {\n",
       "        window.open(figure.imageObj.src);\n",
       "    }\n",
       "\n",
       "    var fig = new mpl.figure(id, ws_proxy,\n",
       "                           ondownload,\n",
       "                           element.get(0));\n",
       "\n",
       "    // Call onopen now - mpl needs it, as it is assuming we've passed it a real\n",
       "    // web socket which is closed, not our websocket->open comm proxy.\n",
       "    ws_proxy.onopen();\n",
       "\n",
       "    fig.parent_element = element.get(0);\n",
       "    fig.cell_info = mpl.find_output_cell(\"<div id='\" + id + \"'></div>\");\n",
       "    if (!fig.cell_info) {\n",
       "        console.error(\"Failed to find cell for figure\", id, fig);\n",
       "        return;\n",
       "    }\n",
       "\n",
       "    var output_index = fig.cell_info[2]\n",
       "    var cell = fig.cell_info[0];\n",
       "\n",
       "};\n",
       "\n",
       "mpl.figure.prototype.handle_close = function(fig, msg) {\n",
       "    fig.root.unbind('remove')\n",
       "\n",
       "    // Update the output cell to use the data from the current canvas.\n",
       "    fig.push_to_output();\n",
       "    var dataURL = fig.canvas.toDataURL();\n",
       "    // Re-enable the keyboard manager in IPython - without this line, in FF,\n",
       "    // the notebook keyboard shortcuts fail.\n",
       "    IPython.keyboard_manager.enable()\n",
       "    $(fig.parent_element).html('<img src=\"' + dataURL + '\">');\n",
       "    fig.close_ws(fig, msg);\n",
       "}\n",
       "\n",
       "mpl.figure.prototype.close_ws = function(fig, msg){\n",
       "    fig.send_message('closing', msg);\n",
       "    // fig.ws.close()\n",
       "}\n",
       "\n",
       "mpl.figure.prototype.push_to_output = function(remove_interactive) {\n",
       "    // Turn the data on the canvas into data in the output cell.\n",
       "    var dataURL = this.canvas.toDataURL();\n",
       "    this.cell_info[1]['text/html'] = '<img src=\"' + dataURL + '\">';\n",
       "}\n",
       "\n",
       "mpl.figure.prototype.updated_canvas_event = function() {\n",
       "    // Tell IPython that the notebook contents must change.\n",
       "    IPython.notebook.set_dirty(true);\n",
       "    this.send_message(\"ack\", {});\n",
       "    var fig = this;\n",
       "    // Wait a second, then push the new image to the DOM so\n",
       "    // that it is saved nicely (might be nice to debounce this).\n",
       "    setTimeout(function () { fig.push_to_output() }, 1000);\n",
       "}\n",
       "\n",
       "mpl.figure.prototype._init_toolbar = function() {\n",
       "    var fig = this;\n",
       "\n",
       "    var nav_element = $('<div/>')\n",
       "    nav_element.attr('style', 'width: 100%');\n",
       "    this.root.append(nav_element);\n",
       "\n",
       "    // Define a callback function for later on.\n",
       "    function toolbar_event(event) {\n",
       "        return fig.toolbar_button_onclick(event['data']);\n",
       "    }\n",
       "    function toolbar_mouse_event(event) {\n",
       "        return fig.toolbar_button_onmouseover(event['data']);\n",
       "    }\n",
       "\n",
       "    for(var toolbar_ind in mpl.toolbar_items){\n",
       "        var name = mpl.toolbar_items[toolbar_ind][0];\n",
       "        var tooltip = mpl.toolbar_items[toolbar_ind][1];\n",
       "        var image = mpl.toolbar_items[toolbar_ind][2];\n",
       "        var method_name = mpl.toolbar_items[toolbar_ind][3];\n",
       "\n",
       "        if (!name) { continue; };\n",
       "\n",
       "        var button = $('<button class=\"btn btn-default\" href=\"#\" title=\"' + name + '\"><i class=\"fa ' + image + ' fa-lg\"></i></button>');\n",
       "        button.click(method_name, toolbar_event);\n",
       "        button.mouseover(tooltip, toolbar_mouse_event);\n",
       "        nav_element.append(button);\n",
       "    }\n",
       "\n",
       "    // Add the status bar.\n",
       "    var status_bar = $('<span class=\"mpl-message\" style=\"text-align:right; float: right;\"/>');\n",
       "    nav_element.append(status_bar);\n",
       "    this.message = status_bar[0];\n",
       "\n",
       "    // Add the close button to the window.\n",
       "    var buttongrp = $('<div class=\"btn-group inline pull-right\"></div>');\n",
       "    var button = $('<button class=\"btn btn-mini btn-primary\" href=\"#\" title=\"Stop Interaction\"><i class=\"fa fa-power-off icon-remove icon-large\"></i></button>');\n",
       "    button.click(function (evt) { fig.handle_close(fig, {}); } );\n",
       "    button.mouseover('Stop Interaction', toolbar_mouse_event);\n",
       "    buttongrp.append(button);\n",
       "    var titlebar = this.root.find($('.ui-dialog-titlebar'));\n",
       "    titlebar.prepend(buttongrp);\n",
       "}\n",
       "\n",
       "mpl.figure.prototype._root_extra_style = function(el){\n",
       "    var fig = this\n",
       "    el.on(\"remove\", function(){\n",
       "\tfig.close_ws(fig, {});\n",
       "    });\n",
       "}\n",
       "\n",
       "mpl.figure.prototype._canvas_extra_style = function(el){\n",
       "    // this is important to make the div 'focusable\n",
       "    el.attr('tabindex', 0)\n",
       "    // reach out to IPython and tell the keyboard manager to turn it's self\n",
       "    // off when our div gets focus\n",
       "\n",
       "    // location in version 3\n",
       "    if (IPython.notebook.keyboard_manager) {\n",
       "        IPython.notebook.keyboard_manager.register_events(el);\n",
       "    }\n",
       "    else {\n",
       "        // location in version 2\n",
       "        IPython.keyboard_manager.register_events(el);\n",
       "    }\n",
       "\n",
       "}\n",
       "\n",
       "mpl.figure.prototype._key_event_extra = function(event, name) {\n",
       "    var manager = IPython.notebook.keyboard_manager;\n",
       "    if (!manager)\n",
       "        manager = IPython.keyboard_manager;\n",
       "\n",
       "    // Check for shift+enter\n",
       "    if (event.shiftKey && event.which == 13) {\n",
       "        this.canvas_div.blur();\n",
       "        event.shiftKey = false;\n",
       "        // Send a \"J\" for go to next cell\n",
       "        event.which = 74;\n",
       "        event.keyCode = 74;\n",
       "        manager.command_mode();\n",
       "        manager.handle_keydown(event);\n",
       "    }\n",
       "}\n",
       "\n",
       "mpl.figure.prototype.handle_save = function(fig, msg) {\n",
       "    fig.ondownload(fig, null);\n",
       "}\n",
       "\n",
       "\n",
       "mpl.find_output_cell = function(html_output) {\n",
       "    // Return the cell and output element which can be found *uniquely* in the notebook.\n",
       "    // Note - this is a bit hacky, but it is done because the \"notebook_saving.Notebook\"\n",
       "    // IPython event is triggered only after the cells have been serialised, which for\n",
       "    // our purposes (turning an active figure into a static one), is too late.\n",
       "    var cells = IPython.notebook.get_cells();\n",
       "    var ncells = cells.length;\n",
       "    for (var i=0; i<ncells; i++) {\n",
       "        var cell = cells[i];\n",
       "        if (cell.cell_type === 'code'){\n",
       "            for (var j=0; j<cell.output_area.outputs.length; j++) {\n",
       "                var data = cell.output_area.outputs[j];\n",
       "                if (data.data) {\n",
       "                    // IPython >= 3 moved mimebundle to data attribute of output\n",
       "                    data = data.data;\n",
       "                }\n",
       "                if (data['text/html'] == html_output) {\n",
       "                    return [cell, data, j];\n",
       "                }\n",
       "            }\n",
       "        }\n",
       "    }\n",
       "}\n",
       "\n",
       "// Register the function which deals with the matplotlib target/channel.\n",
       "// The kernel may be null if the page has been refreshed.\n",
       "if (IPython.notebook.kernel != null) {\n",
       "    IPython.notebook.kernel.comm_manager.register_target('matplotlib', mpl.mpl_figure_comm);\n",
       "}\n"
      ],
      "text/plain": [
       "<IPython.core.display.Javascript object>"
      ]
     },
     "metadata": {},
     "output_type": "display_data"
    },
    {
     "data": {
      "text/html": [
       "<img src=\"data:image/png;base64,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\">"
      ],
      "text/plain": [
       "<IPython.core.display.HTML object>"
      ]
     },
     "metadata": {},
     "output_type": "display_data"
    },
    {
     "data": {
      "text/plain": [
       "<matplotlib.text.Text at 0x7f1bc259bac8>"
      ]
     },
     "execution_count": 69,
     "metadata": {},
     "output_type": "execute_result"
    }
   ],
   "source": [
    "plb.plot(avg_ep_size[:,0], avg_ep_size[:,1])\n",
    "plb.xticks(avg_ep_size[:,0])\n",
    "plb.yticks(avg_ep_size[:,1])\n",
    "plb.xlabel('Network side size', fontsize=14)\n",
    "plb.ylabel('Number of episodes\\n(averaged)', fontsize=14)\n",
    "plb.title('Training duration (with default values for other parameters)', fontsize=16)"
   ]
  },
  {
   "cell_type": "markdown",
   "metadata": {},
   "source": [
    "---"
   ]
  },
  {
   "cell_type": "markdown",
   "metadata": {},
   "source": [
    "### Vector field testing"
   ]
  },
  {
   "cell_type": "code",
   "execution_count": 70,
   "metadata": {
    "collapsed": true
   },
   "outputs": [],
   "source": [
    "a = Agent()\n",
    "for e in range(20):\n",
    "    a.episode()"
   ]
  },
  {
   "cell_type": "code",
   "execution_count": 89,
   "metadata": {
    "collapsed": false
   },
   "outputs": [
    {
     "name": "stdout",
     "output_type": "stream",
     "text": [
      "[[-1. -1. -1.  0.  0.  0.  0.  1.  1.  1.]\n",
      " [-1. -1. -1.  0.  0.  0.  1.  1.  1.  1.]\n",
      " [-1. -1. -1. -1. -1.  1.  1.  1.  1.  1.]\n",
      " [-1.  0. -1. -1.  0.  0.  0.  1.  1.  1.]\n",
      " [ 0.  0. -1. -1.  0.  0.  1.  1.  1.  1.]\n",
      " [ 0.  0.  0. -1. -1. -1.  1.  1.  1.  1.]\n",
      " [ 0.  0.  0. -1. -1.  1.  1.  1.  1.  1.]\n",
      " [ 0.  0.  0.  0.  1.  1.  1.  1.  1.  1.]\n",
      " [ 0.  0.  0.  0.  1.  1.  1.  1.  1.  1.]\n",
      " [ 0.  0.  0.  0.  1.  1.  1.  1.  1.  1.]]\n"
     ]
    }
   ],
   "source": [
    "field_data = a.visualize_field()\n",
    "dummy_up = np.zeros_like(field_data)"
   ]
  },
  {
   "cell_type": "code",
   "execution_count": 97,
   "metadata": {
    "collapsed": false
   },
   "outputs": [
    {
     "name": "stdout",
     "output_type": "stream",
     "text": [
      "[-150. -130. -110.  -90.  -70.  -50.  -30.  -10.   10.   30.]\n",
      "[-15.   -11.67  -8.33  -5.    -1.67   1.67   5.     8.33  11.67  15.  ]\n"
     ]
    }
   ],
   "source": [
    "np.set_printoptions(precision=2, )\n",
    "print(a.centres_x.flatten())\n",
    "print(a.centres_v.flatten())"
   ]
  },
  {
   "cell_type": "code",
   "execution_count": 134,
   "metadata": {
    "collapsed": false
   },
   "outputs": [
    {
     "data": {
      "image/png": "[encoded data removed]",
      "text/plain": [
       "<matplotlib.figure.Figure at 0x7f1b7d9d6ef0>"
      ]
     },
     "metadata": {},
     "output_type": "display_data"
    }
   ],
   "source": [
    "a.visualize_field()"
   ]
  },
  {
   "cell_type": "code",
   "execution_count": 115,
   "metadata": {
    "collapsed": false
   },
   "outputs": [],
   "source": [
    "# %matplotlib notebook\n",
    "%matplotlib inline"
   ]
  },
  {
   "cell_type": "markdown",
   "metadata": {},
   "source": [
    "### Different initial weights"
   ]
  },
  {
   "cell_type": "code",
   "execution_count": 176,
   "metadata": {
    "collapsed": false
   },
   "outputs": [
    {
     "name": "stdout",
     "output_type": "stream",
     "text": [
      "\u001b[1;31m# because multiprocessing Pool cannot run in interactive mode, we put it in a file\u001b[0m\u001b[1;33m\u001b[0m\n",
      "\u001b[1;33m\u001b[0m\u001b[1;33m\u001b[0m\n",
      "\u001b[1;33m\u001b[0m\u001b[1;32mfrom\u001b[0m \u001b[0mmultiprocessing\u001b[0m \u001b[1;32mimport\u001b[0m \u001b[0mPool\u001b[0m\u001b[1;33m\u001b[0m\n",
      "\u001b[1;33m\u001b[0m\u001b[1;32mfrom\u001b[0m \u001b[0mstarter\u001b[0m \u001b[1;32mimport\u001b[0m \u001b[0mAgent\u001b[0m\u001b[1;33m\u001b[0m\n",
      "\u001b[1;33m\u001b[0m\u001b[1;33m\u001b[0m\n",
      "\u001b[1;33m\u001b[0m\u001b[1;32mdef\u001b[0m \u001b[0mmake_and_run\u001b[0m\u001b[1;33m(\u001b[0m\u001b[0minit_w\u001b[0m\u001b[1;33m)\u001b[0m\u001b[1;33m:\u001b[0m\u001b[1;33m\u001b[0m\n",
      "\u001b[1;33m\u001b[0m    \u001b[0md\u001b[0m \u001b[1;33m=\u001b[0m \u001b[1;36m8\u001b[0m\u001b[1;33m\u001b[0m\n",
      "\u001b[1;33m\u001b[0m    \u001b[0mw\u001b[0m \u001b[1;33m=\u001b[0m \u001b[0mnp\u001b[0m\u001b[1;33m.\u001b[0m\u001b[0mfull\u001b[0m\u001b[1;33m(\u001b[0m\u001b[1;33m(\u001b[0m\u001b[1;36m3\u001b[0m\u001b[1;33m,\u001b[0m\u001b[0md\u001b[0m\u001b[1;33m,\u001b[0m\u001b[0md\u001b[0m\u001b[1;33m)\u001b[0m\u001b[1;33m,\u001b[0m \u001b[0minit_w\u001b[0m\u001b[1;33m)\u001b[0m\u001b[1;33m\u001b[0m\n",
      "\u001b[1;33m\u001b[0m    \u001b[0ma\u001b[0m \u001b[1;33m=\u001b[0m \u001b[0mAgent\u001b[0m\u001b[1;33m(\u001b[0m\u001b[0mside_size\u001b[0m\u001b[1;33m=\u001b[0m\u001b[0md\u001b[0m\u001b[1;33m,\u001b[0m \u001b[0mweights\u001b[0m\u001b[1;33m=\u001b[0m\u001b[0mw\u001b[0m\u001b[1;33m)\u001b[0m\u001b[1;33m\u001b[0m\n",
      "\u001b[1;33m\u001b[0m    \u001b[1;32mfor\u001b[0m \u001b[0me\u001b[0m \u001b[1;32min\u001b[0m \u001b[0mrange\u001b[0m\u001b[1;33m(\u001b[0m\u001b[1;36m50\u001b[0m\u001b[1;33m)\u001b[0m\u001b[1;33m:\u001b[0m\u001b[1;33m\u001b[0m\n",
      "\u001b[1;33m\u001b[0m        \u001b[0ma\u001b[0m\u001b[1;33m.\u001b[0m\u001b[0mepisode\u001b[0m\u001b[1;33m(\u001b[0m\u001b[1;33m)\u001b[0m\u001b[1;33m\u001b[0m\n",
      "\u001b[1;33m\u001b[0m    \u001b[1;32mreturn\u001b[0m \u001b[1;33m[\u001b[0m\u001b[0minit_w\u001b[0m\u001b[1;33m,\u001b[0m \u001b[0ma\u001b[0m\u001b[1;33m.\u001b[0m\u001b[0mescape_times\u001b[0m\u001b[1;33m]\u001b[0m\u001b[1;33m\u001b[0m\n",
      "\u001b[1;33m\u001b[0m\u001b[1;33m\u001b[0m\n",
      "\u001b[1;33m\u001b[0m\u001b[1;32mdef\u001b[0m \u001b[0mmain\u001b[0m\u001b[1;33m(\u001b[0m\u001b[1;33m)\u001b[0m\u001b[1;33m:\u001b[0m\u001b[1;33m\u001b[0m\n",
      "\u001b[1;33m\u001b[0m    \u001b[0mp\u001b[0m \u001b[1;33m=\u001b[0m \u001b[0mPool\u001b[0m\u001b[1;33m(\u001b[0m\u001b[1;36m6\u001b[0m\u001b[1;33m)\u001b[0m\u001b[1;33m\u001b[0m\n",
      "\u001b[1;33m\u001b[0m    \u001b[1;31m# init_w -- 12 examples of each\u001b[0m\u001b[1;33m\u001b[0m\n",
      "\u001b[1;33m\u001b[0m    \u001b[0magents\u001b[0m \u001b[1;33m=\u001b[0m \u001b[1;33m[\u001b[0m\u001b[1;36m0\u001b[0m\u001b[1;33m,\u001b[0m \u001b[1;36m1\u001b[0m\u001b[1;33m]\u001b[0m \u001b[1;33m*\u001b[0m \u001b[1;36m12\u001b[0m\u001b[1;33m\u001b[0m\n",
      "\u001b[1;33m\u001b[0m    \u001b[0mresults\u001b[0m \u001b[1;33m=\u001b[0m \u001b[1;33m[\u001b[0m\u001b[1;33m]\u001b[0m\u001b[1;33m\u001b[0m\n",
      "\u001b[1;33m\u001b[0m\u001b[1;33m\u001b[0m\n",
      "\u001b[1;33m\u001b[0m    \u001b[1;32mfor\u001b[0m \u001b[0mres\u001b[0m \u001b[1;32min\u001b[0m \u001b[0mp\u001b[0m\u001b[1;33m.\u001b[0m\u001b[0mmap\u001b[0m\u001b[1;33m(\u001b[0m\u001b[0mmake_and_run\u001b[0m\u001b[1;33m,\u001b[0m \u001b[0magents\u001b[0m\u001b[1;33m)\u001b[0m\u001b[1;33m:\u001b[0m\u001b[1;33m\u001b[0m\n",
      "\u001b[1;33m\u001b[0m        \u001b[0mresults\u001b[0m\u001b[1;33m.\u001b[0m\u001b[0mappend\u001b[0m\u001b[1;33m(\u001b[0m\u001b[0mres\u001b[0m\u001b[1;33m)\u001b[0m\u001b[1;33m\u001b[0m\n",
      "\u001b[1;33m\u001b[0m\u001b[1;33m\u001b[0m\n",
      "\u001b[1;33m\u001b[0m    \u001b[0mprint\u001b[0m\u001b[1;33m(\u001b[0m\u001b[0mresults\u001b[0m\u001b[1;33m)\u001b[0m\u001b[1;33m\u001b[0m\n",
      "\u001b[1;33m\u001b[0m\u001b[1;33m\u001b[0m\n",
      "\u001b[1;33m\u001b[0m\u001b[1;32mif\u001b[0m \u001b[0m__name__\u001b[0m \u001b[1;33m==\u001b[0m \u001b[1;34m\"__main__\"\u001b[0m\u001b[1;33m:\u001b[0m\u001b[1;33m\u001b[0m\n",
      "\u001b[1;33m\u001b[0m    \u001b[0mmain\u001b[0m\u001b[1;33m(\u001b[0m\u001b[1;33m)\u001b[0m\u001b[1;33m\u001b[0m\u001b[0m\n",
      "\n"
     ]
    }
   ],
   "source": [
    "%pycat policy_threaded.py"
   ]
  },
  {
   "cell_type": "markdown",
   "metadata": {},
   "source": [
    "We run the previous file in steps, modifying the parameters there for getting a figure"
   ]
  },
  {
   "cell_type": "markdown",
   "metadata": {},
   "source": [
    "First with init w = 1"
   ]
  },
  {
   "cell_type": "code",
   "execution_count": 208,
   "metadata": {
    "collapsed": false
   },
   "outputs": [],
   "source": [
    "results_text = ! python policy_threaded.py"
   ]
  },
  {
   "cell_type": "code",
   "execution_count": 209,
   "metadata": {
    "collapsed": false,
    "scrolled": true
   },
   "outputs": [
    {
     "data": {
      "text/plain": [
       "['[[1078.0, 1710.0, 913.0, 471.0, 218.0, 832.0, 446.0, 339.0, 305.0, 316.0, 385.0, 247.0, 339.0, 176.0, 318.0, 188.0, 191.0, 213.0, 185.0, 61.0, 131.0, 131.0, 122.0, 45.0, 112.0, 57.0, 96.0, 85.0, 70.0, 34.0, 53.0, 57.0, 52.0, 87.0, 57.0, 91.0, 51.0, 67.0, 70.0, 99.0, 67.0, 32.0, 36.0, 31.0, 75.0, 54.0, 29.0, 42.0, 44.0, 27.0], [1078.0, 1710.0, 913.0, 471.0, 218.0, 832.0, 446.0, 339.0, 305.0, 316.0, 385.0, 247.0, 339.0, 176.0, 318.0, 188.0, 191.0, 213.0, 185.0, 61.0, 131.0, 131.0, 122.0, 45.0, 112.0, 57.0, 96.0, 85.0, 70.0, 34.0, 53.0, 57.0, 52.0, 87.0, 57.0, 91.0, 51.0, 67.0, 70.0, 99.0, 67.0, 32.0, 36.0, 31.0, 75.0, 54.0, 29.0, 42.0, 44.0, 27.0], [1078.0, 1710.0, 913.0, 471.0, 218.0, 832.0, 446.0, 339.0, 305.0, 316.0, 385.0, 247.0, 339.0, 176.0, 318.0, 188.0, 191.0, 213.0, 185.0, 61.0, 131.0, 131.0, 122.0, 45.0, 112.0, 57.0, 96.0, 85.0, 70.0, 34.0, 53.0, 57.0, 52.0, 87.0, 57.0, 91.0, 51.0, 67.0, 70.0, 99.0, 67.0, 32.0, 36.0, 31.0, 75.0, 54.0, 29.0, 42.0, 44.0, 27.0], [1078.0, 1710.0, 913.0, 471.0, 218.0, 832.0, 446.0, 339.0, 305.0, 316.0, 385.0, 247.0, 339.0, 176.0, 318.0, 188.0, 191.0, 213.0, 185.0, 61.0, 131.0, 131.0, 122.0, 45.0, 112.0, 57.0, 96.0, 85.0, 70.0, 34.0, 53.0, 57.0, 52.0, 87.0, 57.0, 91.0, 51.0, 67.0, 70.0, 99.0, 67.0, 32.0, 36.0, 31.0, 75.0, 54.0, 29.0, 42.0, 44.0, 27.0], [1078.0, 1710.0, 913.0, 471.0, 218.0, 832.0, 446.0, 339.0, 305.0, 316.0, 385.0, 247.0, 339.0, 176.0, 318.0, 188.0, 191.0, 213.0, 185.0, 61.0, 131.0, 131.0, 122.0, 45.0, 112.0, 57.0, 96.0, 85.0, 70.0, 34.0, 53.0, 57.0, 52.0, 87.0, 57.0, 91.0, 51.0, 67.0, 70.0, 99.0, 67.0, 32.0, 36.0, 31.0, 75.0, 54.0, 29.0, 42.0, 44.0, 27.0], [1078.0, 1710.0, 913.0, 471.0, 218.0, 832.0, 446.0, 339.0, 305.0, 316.0, 385.0, 247.0, 339.0, 176.0, 318.0, 188.0, 191.0, 213.0, 185.0, 61.0, 131.0, 131.0, 122.0, 45.0, 112.0, 57.0, 96.0, 85.0, 70.0, 34.0, 53.0, 57.0, 52.0, 87.0, 57.0, 91.0, 51.0, 67.0, 70.0, 99.0, 67.0, 32.0, 36.0, 31.0, 75.0, 54.0, 29.0, 42.0, 44.0, 27.0], [1267.0, 1265.0, 508.0, 1331.0, 723.0, 396.0, 207.0, 255.0, 269.0, 554.0, 245.0, 170.0, 125.0, 152.0, 127.0, 239.0, 178.0, 84.0, 54.0, 94.0, 119.0, 81.0, 92.0, 131.0, 66.0, 47.0, 83.0, 43.0, 54.0, 67.0, 83.0, 67.0, 42.0, 96.0, 55.0, 55.0, 76.0, 78.0, 50.0, 27.0, 76.0, 79.0, 132.0, 30.0, 32.0, 85.0, 29.0, 37.0, 54.0, 30.0], [1267.0, 1265.0, 508.0, 1331.0, 723.0, 396.0, 207.0, 255.0, 269.0, 554.0, 245.0, 170.0, 125.0, 152.0, 127.0, 239.0, 178.0, 84.0, 54.0, 94.0, 119.0, 81.0, 92.0, 131.0, 66.0, 47.0, 83.0, 43.0, 54.0, 67.0, 83.0, 67.0, 42.0, 96.0, 55.0, 55.0, 76.0, 78.0, 50.0, 27.0, 76.0, 79.0, 132.0, 30.0, 32.0, 85.0, 29.0, 37.0, 54.0, 30.0], [1267.0, 1265.0, 508.0, 1331.0, 723.0, 396.0, 207.0, 255.0, 269.0, 554.0, 245.0, 170.0, 125.0, 152.0, 127.0, 239.0, 178.0, 84.0, 54.0, 94.0, 119.0, 81.0, 92.0, 131.0, 66.0, 47.0, 83.0, 43.0, 54.0, 67.0, 83.0, 67.0, 42.0, 96.0, 55.0, 55.0, 76.0, 78.0, 50.0, 27.0, 76.0, 79.0, 132.0, 30.0, 32.0, 85.0, 29.0, 37.0, 54.0, 30.0], [1267.0, 1265.0, 508.0, 1331.0, 723.0, 396.0, 207.0, 255.0, 269.0, 554.0, 245.0, 170.0, 125.0, 152.0, 127.0, 239.0, 178.0, 84.0, 54.0, 94.0, 119.0, 81.0, 92.0, 131.0, 66.0, 47.0, 83.0, 43.0, 54.0, 67.0, 83.0, 67.0, 42.0, 96.0, 55.0, 55.0, 76.0, 78.0, 50.0, 27.0, 76.0, 79.0, 132.0, 30.0, 32.0, 85.0, 29.0, 37.0, 54.0, 30.0], [1267.0, 1265.0, 508.0, 1331.0, 723.0, 396.0, 207.0, 255.0, 269.0, 554.0, 245.0, 170.0, 125.0, 152.0, 127.0, 239.0, 178.0, 84.0, 54.0, 94.0, 119.0, 81.0, 92.0, 131.0, 66.0, 47.0, 83.0, 43.0, 54.0, 67.0, 83.0, 67.0, 42.0, 96.0, 55.0, 55.0, 76.0, 78.0, 50.0, 27.0, 76.0, 79.0, 132.0, 30.0, 32.0, 85.0, 29.0, 37.0, 54.0, 30.0], [1267.0, 1265.0, 508.0, 1331.0, 723.0, 396.0, 207.0, 255.0, 269.0, 554.0, 245.0, 170.0, 125.0, 152.0, 127.0, 239.0, 178.0, 84.0, 54.0, 94.0, 119.0, 81.0, 92.0, 131.0, 66.0, 47.0, 83.0, 43.0, 54.0, 67.0, 83.0, 67.0, 42.0, 96.0, 55.0, 55.0, 76.0, 78.0, 50.0, 27.0, 76.0, 79.0, 132.0, 30.0, 32.0, 85.0, 29.0, 37.0, 54.0, 30.0]]',\n",
       " \"/home/cipri/anaconda3/lib/python3.5/site-packages/numpy/core/numeric.py:301: FutureWarning: in the future, full((3, 8, 8), 1) will return an array of dtype('int64')\",\n",
       " '  format(shape, fill_value, array(fill_value).dtype), FutureWarning)',\n",
       " \"/home/cipri/anaconda3/lib/python3.5/site-packages/numpy/core/numeric.py:301: FutureWarning: in the future, full((3, 8, 8), 1) will return an array of dtype('int64')\",\n",
       " '  format(shape, fill_value, array(fill_value).dtype), FutureWarning)',\n",
       " \"/home/cipri/anaconda3/lib/python3.5/site-packages/numpy/core/numeric.py:301: FutureWarning: in the future, full((3, 8, 8), 1) will return an array of dtype('int64')\",\n",
       " '  format(shape, fill_value, array(fill_value).dtype), FutureWarning)',\n",
       " \"/home/cipri/anaconda3/lib/python3.5/site-packages/numpy/core/numeric.py:301: FutureWarning: in the future, full((3, 8, 8), 1) will return an array of dtype('int64')\",\n",
       " '  format(shape, fill_value, array(fill_value).dtype), FutureWarning)',\n",
       " \"/home/cipri/anaconda3/lib/python3.5/site-packages/numpy/core/numeric.py:301: FutureWarning: in the future, full((3, 8, 8), 1) will return an array of dtype('int64')\",\n",
       " '  format(shape, fill_value, array(fill_value).dtype), FutureWarning)',\n",
       " \"/home/cipri/anaconda3/lib/python3.5/site-packages/numpy/core/numeric.py:301: FutureWarning: in the future, full((3, 8, 8), 1) will return an array of dtype('int64')\",\n",
       " '  format(shape, fill_value, array(fill_value).dtype), FutureWarning)']"
      ]
     },
     "execution_count": 209,
     "metadata": {},
     "output_type": "execute_result"
    }
   ],
   "source": [
    "results_text # print it here, in case you destroy it later you can copy-paste the data"
   ]
  },
  {
   "cell_type": "code",
   "execution_count": 222,
   "metadata": {
    "collapsed": false
   },
   "outputs": [],
   "source": [
    "escape_times = np.array(eval(results_text[0]))"
   ]
  },
  {
   "cell_type": "code",
   "execution_count": 217,
   "metadata": {
    "collapsed": false
   },
   "outputs": [],
   "source": [
    "avg_escape_times = escape_times.mean(axis=0)"
   ]
  },
  {
   "cell_type": "markdown",
   "metadata": {},
   "source": [
    "Then with init w = 0"
   ]
  },
  {
   "cell_type": "code",
   "execution_count": 223,
   "metadata": {
    "collapsed": true
   },
   "outputs": [],
   "source": [
    "results_text = ! python policy_threaded.py"
   ]
  },
  {
   "cell_type": "code",
   "execution_count": 225,
   "metadata": {
    "collapsed": false,
    "scrolled": true
   },
   "outputs": [
    {
     "data": {
      "text/plain": [
       "['[[2000.0, 2000.0, 955.0, 1644.0, 2000.0, 2000.0, 1361.0, 1180.0, 735.0, 1211.0, 376.0, 911.0, 405.0, 1060.0, 211.0, 2000.0, 238.0, 934.0, 1092.0, 1237.0, 106.0, 342.0, 77.0, 1841.0, 843.0, 68.0, 107.0, 250.0, 62.0, 451.0, 132.0, 777.0, 59.0, 767.0, 924.0, 120.0, 391.0, 1513.0, 74.0, 202.0, 67.0, 119.0, 57.0, 98.0, 2000.0, 84.0, 81.0, 201.0, 101.0, 1065.0], [2000.0, 2000.0, 955.0, 1644.0, 2000.0, 2000.0, 1361.0, 1180.0, 735.0, 1211.0, 376.0, 911.0, 405.0, 1060.0, 211.0, 2000.0, 238.0, 934.0, 1092.0, 1237.0, 106.0, 342.0, 77.0, 1841.0, 843.0, 68.0, 107.0, 250.0, 62.0, 451.0, 132.0, 777.0, 59.0, 767.0, 924.0, 120.0, 391.0, 1513.0, 74.0, 202.0, 67.0, 119.0, 57.0, 98.0, 2000.0, 84.0, 81.0, 201.0, 101.0, 1065.0], [2000.0, 2000.0, 955.0, 1644.0, 2000.0, 2000.0, 1361.0, 1180.0, 735.0, 1211.0, 376.0, 911.0, 405.0, 1060.0, 211.0, 2000.0, 238.0, 934.0, 1092.0, 1237.0, 106.0, 342.0, 77.0, 1841.0, 843.0, 68.0, 107.0, 250.0, 62.0, 451.0, 132.0, 777.0, 59.0, 767.0, 924.0, 120.0, 391.0, 1513.0, 74.0, 202.0, 67.0, 119.0, 57.0, 98.0, 2000.0, 84.0, 81.0, 201.0, 101.0, 1065.0], [2000.0, 2000.0, 955.0, 1644.0, 2000.0, 2000.0, 1361.0, 1180.0, 735.0, 1211.0, 376.0, 911.0, 405.0, 1060.0, 211.0, 2000.0, 238.0, 934.0, 1092.0, 1237.0, 106.0, 342.0, 77.0, 1841.0, 843.0, 68.0, 107.0, 250.0, 62.0, 451.0, 132.0, 777.0, 59.0, 767.0, 924.0, 120.0, 391.0, 1513.0, 74.0, 202.0, 67.0, 119.0, 57.0, 98.0, 2000.0, 84.0, 81.0, 201.0, 101.0, 1065.0], [2000.0, 2000.0, 955.0, 1644.0, 2000.0, 2000.0, 1361.0, 1180.0, 735.0, 1211.0, 376.0, 911.0, 405.0, 1060.0, 211.0, 2000.0, 238.0, 934.0, 1092.0, 1237.0, 106.0, 342.0, 77.0, 1841.0, 843.0, 68.0, 107.0, 250.0, 62.0, 451.0, 132.0, 777.0, 59.0, 767.0, 924.0, 120.0, 391.0, 1513.0, 74.0, 202.0, 67.0, 119.0, 57.0, 98.0, 2000.0, 84.0, 81.0, 201.0, 101.0, 1065.0], [2000.0, 2000.0, 955.0, 1644.0, 2000.0, 2000.0, 1361.0, 1180.0, 735.0, 1211.0, 376.0, 911.0, 405.0, 1060.0, 211.0, 2000.0, 238.0, 934.0, 1092.0, 1237.0, 106.0, 342.0, 77.0, 1841.0, 843.0, 68.0, 107.0, 250.0, 62.0, 451.0, 132.0, 777.0, 59.0, 767.0, 924.0, 120.0, 391.0, 1513.0, 74.0, 202.0, 67.0, 119.0, 57.0, 98.0, 2000.0, 84.0, 81.0, 201.0, 101.0, 1065.0], [2000.0, 519.0, 395.0, 1171.0, 925.0, 256.0, 668.0, 2000.0, 951.0, 2000.0, 411.0, 127.0, 1055.0, 1170.0, 535.0, 762.0, 90.0, 70.0, 241.0, 941.0, 2000.0, 1324.0, 452.0, 155.0, 186.0, 2000.0, 203.0, 145.0, 139.0, 154.0, 472.0, 69.0, 112.0, 397.0, 90.0, 90.0, 1307.0, 37.0, 595.0, 89.0, 49.0, 109.0, 115.0, 1535.0, 44.0, 283.0, 31.0, 115.0, 57.0, 178.0], [2000.0, 519.0, 395.0, 1171.0, 925.0, 256.0, 668.0, 2000.0, 951.0, 2000.0, 411.0, 127.0, 1055.0, 1170.0, 535.0, 762.0, 90.0, 70.0, 241.0, 941.0, 2000.0, 1324.0, 452.0, 155.0, 186.0, 2000.0, 203.0, 145.0, 139.0, 154.0, 472.0, 69.0, 112.0, 397.0, 90.0, 90.0, 1307.0, 37.0, 595.0, 89.0, 49.0, 109.0, 115.0, 1535.0, 44.0, 283.0, 31.0, 115.0, 57.0, 178.0], [2000.0, 519.0, 395.0, 1171.0, 925.0, 256.0, 668.0, 2000.0, 951.0, 2000.0, 411.0, 127.0, 1055.0, 1170.0, 535.0, 762.0, 90.0, 70.0, 241.0, 941.0, 2000.0, 1324.0, 452.0, 155.0, 186.0, 2000.0, 203.0, 145.0, 139.0, 154.0, 472.0, 69.0, 112.0, 397.0, 90.0, 90.0, 1307.0, 37.0, 595.0, 89.0, 49.0, 109.0, 115.0, 1535.0, 44.0, 283.0, 31.0, 115.0, 57.0, 178.0], [2000.0, 519.0, 395.0, 1171.0, 925.0, 256.0, 668.0, 2000.0, 951.0, 2000.0, 411.0, 127.0, 1055.0, 1170.0, 535.0, 762.0, 90.0, 70.0, 241.0, 941.0, 2000.0, 1324.0, 452.0, 155.0, 186.0, 2000.0, 203.0, 145.0, 139.0, 154.0, 472.0, 69.0, 112.0, 397.0, 90.0, 90.0, 1307.0, 37.0, 595.0, 89.0, 49.0, 109.0, 115.0, 1535.0, 44.0, 283.0, 31.0, 115.0, 57.0, 178.0], [2000.0, 519.0, 395.0, 1171.0, 925.0, 256.0, 668.0, 2000.0, 951.0, 2000.0, 411.0, 127.0, 1055.0, 1170.0, 535.0, 762.0, 90.0, 70.0, 241.0, 941.0, 2000.0, 1324.0, 452.0, 155.0, 186.0, 2000.0, 203.0, 145.0, 139.0, 154.0, 472.0, 69.0, 112.0, 397.0, 90.0, 90.0, 1307.0, 37.0, 595.0, 89.0, 49.0, 109.0, 115.0, 1535.0, 44.0, 283.0, 31.0, 115.0, 57.0, 178.0], [2000.0, 519.0, 395.0, 1171.0, 925.0, 256.0, 668.0, 2000.0, 951.0, 2000.0, 411.0, 127.0, 1055.0, 1170.0, 535.0, 762.0, 90.0, 70.0, 241.0, 941.0, 2000.0, 1324.0, 452.0, 155.0, 186.0, 2000.0, 203.0, 145.0, 139.0, 154.0, 472.0, 69.0, 112.0, 397.0, 90.0, 90.0, 1307.0, 37.0, 595.0, 89.0, 49.0, 109.0, 115.0, 1535.0, 44.0, 283.0, 31.0, 115.0, 57.0, 178.0]]',\n",
       " \"/home/cipri/anaconda3/lib/python3.5/site-packages/numpy/core/numeric.py:301: FutureWarning: in the future, full((3, 8, 8), 0) will return an array of dtype('int64')\",\n",
       " '  format(shape, fill_value, array(fill_value).dtype), FutureWarning)',\n",
       " \"/home/cipri/anaconda3/lib/python3.5/site-packages/numpy/core/numeric.py:301: FutureWarning: in the future, full((3, 8, 8), 0) will return an array of dtype('int64')\",\n",
       " '  format(shape, fill_value, array(fill_value).dtype), FutureWarning)',\n",
       " \"/home/cipri/anaconda3/lib/python3.5/site-packages/numpy/core/numeric.py:301: FutureWarning: in the future, full((3, 8, 8), 0) will return an array of dtype('int64')\",\n",
       " '  format(shape, fill_value, array(fill_value).dtype), FutureWarning)',\n",
       " \"/home/cipri/anaconda3/lib/python3.5/site-packages/numpy/core/numeric.py:301: FutureWarning: in the future, full((3, 8, 8), 0) will return an array of dtype('int64')\",\n",
       " '  format(shape, fill_value, array(fill_value).dtype), FutureWarning)',\n",
       " \"/home/cipri/anaconda3/lib/python3.5/site-packages/numpy/core/numeric.py:301: FutureWarning: in the future, full((3, 8, 8), 0) will return an array of dtype('int64')\",\n",
       " '  format(shape, fill_value, array(fill_value).dtype), FutureWarning)',\n",
       " \"/home/cipri/anaconda3/lib/python3.5/site-packages/numpy/core/numeric.py:301: FutureWarning: in the future, full((3, 8, 8), 0) will return an array of dtype('int64')\",\n",
       " '  format(shape, fill_value, array(fill_value).dtype), FutureWarning)']"
      ]
     },
     "execution_count": 225,
     "metadata": {},
     "output_type": "execute_result"
    }
   ],
   "source": [
    "results_text"
   ]
  },
  {
   "cell_type": "code",
   "execution_count": 226,
   "metadata": {
    "collapsed": true
   },
   "outputs": [],
   "source": [
    "escape_times0 = np.array(eval(results_text[0]))\n",
    "avg_escape_times0 = escape_times0.mean(axis=0)"
   ]
  },
  {
   "cell_type": "code",
   "execution_count": 234,
   "metadata": {
    "collapsed": false
   },
   "outputs": [
    {
     "data": {
      "text/plain": [
       "<matplotlib.text.Text at 0x7f1b7c6b6748>"
      ]
     },
     "execution_count": 234,
     "metadata": {},
     "output_type": "execute_result"
    },
    {
     "data": {
      "image/png": "[encoded data removed]",
      "text/plain": [
       "<matplotlib.figure.Figure at 0x7f1b7c729278>"
      ]
     },
     "metadata": {},
     "output_type": "display_data"
    }
   ],
   "source": [
    "plb.plot(avg_escape_times0, 'r')\n",
    "plb.plot(avg_escape_times , 'b') \n",
    "plb.legend(['$w_{ij} = 0$', '$w_{ij} = 1$'])\n",
    "plb.xlabel('Number of episodes', fontsize=14)\n",
    "plb.ylabel('Escape latency (averaged)', fontsize=14)\n",
    "plb.title(\"Influence of initial weights\", fontsize=16)"
   ]
  },
  {
   "cell_type": "markdown",
   "metadata": {},
   "source": [
    "### $\\tau$ exploration"
   ]
  },
  {
   "cell_type": "code",
   "execution_count": 255,
   "metadata": {
    "collapsed": false
   },
   "outputs": [],
   "source": [
    "results_text = ! python tau_threaded.py"
   ]
  },
  {
   "cell_type": "code",
   "execution_count": null,
   "metadata": {
    "collapsed": true
   },
   "outputs": [],
   "source": []
  },
  {
   "cell_type": "code",
   "execution_count": 242,
   "metadata": {
    "collapsed": true
   },
   "outputs": [],
   "source": [
    "def plot_learning_curve(escape_times, tau):\n",
    "    plb.plot(escape_times)\n",
    "    plb.xlabel('Number of episodes', fontsize=14)\n",
    "    plb.ylabel('Escape latency (averaged)', fontsize=14)\n",
    "    plb.title(r\"Exploration vs. Exploitation ($\\tau = {t}$)\".format(t=tau), fontsize=16)"
   ]
  },
  {
   "cell_type": "code",
   "execution_count": 254,
   "metadata": {
    "collapsed": false
   },
   "outputs": [
    {
     "data": {
      "image/png": "[encoded data removed]",
      "text/plain": [
       "<matplotlib.figure.Figure at 0x7f1b7c70c5c0>"
      ]
     },
     "metadata": {},
     "output_type": "display_data"
    }
   ],
   "source": [
    "plot_learning_curve(a.escape_times, a.tau)"
   ]
  },
  {
   "cell_type": "markdown",
   "metadata": {},
   "source": [
    "---"
   ]
  },
  {
   "cell_type": "code",
   "execution_count": null,
   "metadata": {
    "collapsed": false
   },
   "outputs": [],
   "source": [
    "N = 8\n",
    "for i in range(N):\n",
    "    plt.figure()\n",
    "    plt.title(i)\n",
    "    plt.plot(x[0,[i+j*N for j in range(N)]])\n",
    "    plt.plot(x[1,[i+j*N for j in range(N)]])\n",
    "    plt.plot(x[2,[i+j*N for j in range(N)]])"
   ]
  },
  {
   "cell_type": "code",
   "execution_count": null,
   "metadata": {
    "collapsed": true
   },
   "outputs": [],
   "source": [
    "for i in range(20):\n",
    "    plt.figure()\n",
    "    plt.title(i)\n",
    "    plt.plot(x[0,[j+i*20 for j in range(20)]])\n",
    "    plt.plot(x[1,[j+i*20 for j in range(20)]])\n",
    "    plt.plot(x[2,[j+i*20 for j in range(20)]])"
   ]
  }
 ],
 "metadata": {
  "anaconda-cloud": {},
  "kernelspec": {
   "display_name": "Python [Root]",
   "language": "python",
   "name": "Python [Root]"
  },
  "language_info": {
   "codemirror_mode": {
    "name": "ipython",
    "version": 3
   },
   "file_extension": ".py",
   "mimetype": "text/x-python",
   "name": "python",
   "nbconvert_exporter": "python",
   "pygments_lexer": "ipython3",
   "version": "3.5.2"
  }
 },
 "nbformat": 4,
 "nbformat_minor": 0
}
